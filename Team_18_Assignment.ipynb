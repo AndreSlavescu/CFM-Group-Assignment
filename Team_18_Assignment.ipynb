{
 "cells": [
  {
   "cell_type": "code",
   "execution_count": 52,
   "source": [
    "from IPython.display import display, Math, Latex\n",
    "\n",
    "import pandas as pd\n",
    "import numpy as np\n",
    "import numpy_financial as npf\n",
    "import yfinance as yf\n",
    "import matplotlib.pyplot as plt\n",
    "from datetime import datetime"
   ],
   "outputs": [],
   "metadata": {}
  },
  {
   "cell_type": "markdown",
   "source": [
    "## Group Assignment\n",
    "### Team Number: 18\n",
    "### Team Member Names: Daniel Kim, Andre Slavescu, Kitty Cai \n",
    "### Team Strategy Chosen: SAFE"
   ],
   "metadata": {}
  },
  {
   "cell_type": "markdown",
   "source": [
    "First check if the stock is US"
   ],
   "metadata": {}
  },
  {
   "cell_type": "code",
   "execution_count": 59,
   "source": [
    "def updated_stock_list(our_csv):\n",
    "    global stocks\n",
    "    stocks = pd.read_csv(our_csv, header = None)\n",
    "    stocks.columns = ['ticker']\n",
    "\n",
    "    global stocklist\n",
    "    stocklist = stocks['ticker'].tolist()\n",
    "    \n",
    "    # Filtering (US Market and existing stocks)\n",
    "    global US_Tickers\n",
    "    US_Tickers = []\n",
    "    global US_Stocks\n",
    "    US_Stocks = []\n",
    "    \n",
    "    global stock\n",
    "    for i in stocklist:\n",
    "        stock = yf.Ticker(i)\n",
    "        # check if currency is USD\n",
    "        if ('currency' in stock.info) and (stock.info['currency'] == 'USD'):\n",
    "            US_Tickers.append(i)\n",
    "            US_Stocks.append(stock)\n",
    "    \n",
    "    # at least 10,000 shares traded daily\n",
    "    start_date = '2021-07-02'\n",
    "    end_date = '2021-10-22'        \n",
    "    stocks_traded = []\n",
    "    \n",
    "    for i in range(len(US_Stocks)):\n",
    "        stocks_traded.append(US_Stocks[i].history(start = start_date, end = end_date)['Volume'])\n",
    "        # check if the average volume traded is < 10000\n",
    "        if US_Stocks[i].mean() < 10000:\n",
    "            US_Tickers.remove(US_Tickers[i])\n",
    "            US_Stocks.remove(US_Stocks[i])\n",
    "\n",
    "    return US_Stocks + US_Tickers"
   ],
   "outputs": [],
   "metadata": {}
  },
  {
   "cell_type": "code",
   "execution_count": 61,
   "source": [
    "print(len(US_Tickers+US_Tickers))\n",
    "print(US_Tickers+US_Tickers)"
   ],
   "outputs": [
    {
     "output_type": "stream",
     "name": "stdout",
     "text": [
      "22\n",
      "['AAPL', 'ABBV', 'ABT', 'ACN', 'AIG', 'AMZN', 'AXP', 'BA', 'BAC', 'BIIB', 'BK', 'AAPL', 'ABBV', 'ABT', 'ACN', 'AIG', 'AMZN', 'AXP', 'BA', 'BAC', 'BIIB', 'BK']\n"
     ]
    }
   ],
   "metadata": {}
  },
  {
   "cell_type": "code",
   "execution_count": null,
   "source": [
    "# Read the csv file\n",
    "listed = pd.read_csv('Tickers.csv')\n",
    "listed.head()"
   ],
   "outputs": [],
   "metadata": {}
  },
  {
   "cell_type": "code",
   "execution_count": null,
   "source": [
    "listed.iloc[1]"
   ],
   "outputs": [],
   "metadata": {}
  },
  {
   "cell_type": "code",
   "execution_count": null,
   "source": [
    "list1 = listed.values.tolist()"
   ],
   "outputs": [],
   "metadata": {}
  },
  {
   "cell_type": "code",
   "execution_count": null,
   "source": [
    "for i in range(len(listed)):\n",
    "    x = yf.Ticker(str(list1[i][0]))\n",
    "    print(list1[i])"
   ],
   "outputs": [],
   "metadata": {}
  },
  {
   "cell_type": "code",
   "execution_count": null,
   "source": [
    "len(listed)"
   ],
   "outputs": [],
   "metadata": {}
  },
  {
   "cell_type": "code",
   "execution_count": null,
   "source": [
    "str(list1[1][0])"
   ],
   "outputs": [],
   "metadata": {}
  },
  {
   "cell_type": "code",
   "execution_count": null,
   "source": [
    "stock_list = []\n",
    "for i in range(len(list1)):\n",
    "    stock_list.append(list1[i][0])\n",
    "stock_list"
   ],
   "outputs": [],
   "metadata": {}
  },
  {
   "cell_type": "code",
   "execution_count": null,
   "source": [
    "check = yf.Ticker(stock_list[i])\n",
    "for i in range(len(stock_list)):   \n",
    "    if \"market\" not in check.info:\n",
    "        stock_list.pop(i)\n",
    "\n",
    "stock_list\n",
    "\n",
    "# if regularMarketPrice is null then eliminate\n",
    "# if market not us_market then eliminate"
   ],
   "outputs": [],
   "metadata": {}
  },
  {
   "cell_type": "code",
   "execution_count": null,
   "source": [
    "len(stock_list)"
   ],
   "outputs": [],
   "metadata": {}
  },
  {
   "cell_type": "code",
   "execution_count": null,
   "source": [
    "manipulation = stock_list\n",
    "manipulation"
   ],
   "outputs": [],
   "metadata": {}
  },
  {
   "cell_type": "code",
   "execution_count": null,
   "source": [
    "stock_list_manipulation = pd.DataFrame()\n",
    "\n",
    "for ticker in manipulation:\n",
    "    x = yf.Ticker(ticker)\n",
    "    \n",
    "    #Dates\n",
    "    start_date = '2019-01-01'\n",
    "    end_date = '2021-07-01'\n",
    "    \n",
    "    y = x.history(start = start_date, end = end_date)\n",
    "    \n",
    "    stock_list_manipulation[ticker] = y['Close']\n",
    "\n",
    "stock_list_manipulation.head()"
   ],
   "outputs": [],
   "metadata": {}
  },
  {
   "cell_type": "code",
   "execution_count": null,
   "source": [
    "#Get the standard deviation\n",
    "returns = stock_list_manipulation.pct_change() * 100\n",
    "\n",
    "#Calculate the standard deviation\n",
    "std = pd.DataFrame(returns.std())\n",
    "std = std.reset_index()\n",
    "std = std.rename(columns={\"index\": \"stocks\", 0: \"standard_deviation\"})\n",
    "std = std.dropna()\n",
    "std = std.sort_values(by = 'standard_deviation')\n",
    "std = std.reset_index(drop = True)\n",
    "std\n"
   ],
   "outputs": [],
   "metadata": {}
  },
  {
   "cell_type": "code",
   "execution_count": null,
   "source": [
    "for i in stock_list:\n",
    "    if (yf.Ticker(i).info[\"market\"] == \"us_market\"):\n",
    "        stock_list.remove(i)\n",
    "        print(i)\n",
    "for i in stock_list:\n",
    "    if (yf.Ticker(i).info[\"averageDailyVolume\"]) < 10000:\n",
    "        stock_list.remove(i)\n",
    "        print(i)\n",
    "\n",
    "stock_list"
   ],
   "outputs": [],
   "metadata": {}
  },
  {
   "cell_type": "code",
   "execution_count": null,
   "source": [
    "# Fake tickers, AGN CELG\n",
    "check = yf.Ticker(\"CELG\")\n",
    "\n",
    "check.info"
   ],
   "outputs": [],
   "metadata": {}
  },
  {
   "cell_type": "code",
   "execution_count": null,
   "source": [
    "check = yf.Ticker(\"APPL\")\n",
    "\n",
    "check.info\n",
    "\n",
    "if check.info[\"market\"] == \"us_market\":\n",
    "    print(check.info[\"symbol\"])\n",
    "\n",
    "# if regularMarketPrice is null then eliminate\n",
    "# if market not us_market then eliminate"
   ],
   "outputs": [],
   "metadata": {}
  },
  {
   "cell_type": "markdown",
   "source": [
    "Check if stock has an average daily volume of at least 10 000 shares"
   ],
   "metadata": {}
  },
  {
   "cell_type": "code",
   "execution_count": null,
   "source": [],
   "outputs": [],
   "metadata": {}
  },
  {
   "cell_type": "markdown",
   "source": [
    "Create a DataFrame called \"FinalPortfolio\"\n",
    "\n",
    "Index starts at 1 and ends at the number of stocks the code chose\n",
    "\n",
    "Have the following headings: Ticker, Price, Shares, Value, Weight\n",
    "\n",
    "Show the total adds to $100 000 and weight is 100%"
   ],
   "metadata": {}
  },
  {
   "cell_type": "markdown",
   "source": [
    "Find a way to pick 10 - 20 stocks"
   ],
   "metadata": {}
  },
  {
   "cell_type": "code",
   "execution_count": null,
   "source": [],
   "outputs": [],
   "metadata": {}
  },
  {
   "cell_type": "markdown",
   "source": [
    "Find a way to weight the stocks and put in the $10 000 USD based on the weighs\n"
   ],
   "metadata": {}
  },
  {
   "cell_type": "code",
   "execution_count": null,
   "source": [],
   "outputs": [],
   "metadata": {}
  },
  {
   "cell_type": "markdown",
   "source": [
    "Create a DataFrame called \"FinalPortfolio\"\n",
    "\n",
    "Index starts at 1 and ends at the number of stocks the code chose\n",
    "\n",
    "Have the following headings: Ticker, Price, Shares, Value, Weight\n",
    "\n",
    "Show the total adds to $100 000 and weight is 100%"
   ],
   "metadata": {}
  },
  {
   "cell_type": "code",
   "execution_count": null,
   "source": [],
   "outputs": [],
   "metadata": {}
  },
  {
   "cell_type": "markdown",
   "source": [
    "Create final DataFrame \"Stocks\"\n",
    "\n",
    "Same index as \"FinalPortfolio\" but only has Ticker and Shares\n",
    "\n",
    "Must output DataFrame to a CSV file titled “Stocks_Group_18.csv” "
   ],
   "metadata": {}
  },
  {
   "cell_type": "code",
   "execution_count": null,
   "source": [],
   "outputs": [],
   "metadata": {}
  },
  {
   "cell_type": "markdown",
   "source": [
    "## Contribution Declaration\n",
    "\n",
    "The following team members made a meaningful contribution to this assignment:\n",
    "\n",
    "Insert Names Here."
   ],
   "metadata": {}
  }
 ],
 "metadata": {
  "interpreter": {
   "hash": "2d0f1f4f72d799f3db574c7a8ccc66a76fa5e9f850769b2c38edad22ad6ff8d5"
  },
  "kernelspec": {
   "display_name": "Python 3.8.8 64-bit ('base': conda)",
   "name": "python3"
  },
  "language_info": {
   "codemirror_mode": {
    "name": "ipython",
    "version": 3
   },
   "file_extension": ".py",
   "mimetype": "text/x-python",
   "name": "python",
   "nbconvert_exporter": "python",
   "pygments_lexer": "ipython3",
   "version": "3.9.6"
  }
 },
 "nbformat": 4,
 "nbformat_minor": 4
}