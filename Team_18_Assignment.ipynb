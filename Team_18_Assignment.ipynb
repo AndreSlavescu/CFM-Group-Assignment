{
 "cells": [
  {
   "cell_type": "code",
   "execution_count": 1,
   "metadata": {},
   "outputs": [],
   "source": [
    "from IPython.display import display, Math, Latex\n",
    "\n",
    "import pandas as pd\n",
    "import numpy as np\n",
    "import numpy_financial as npf\n",
    "import yfinance as yf\n",
    "import matplotlib.pyplot as plt\n",
    "from datetime import datetime"
   ]
  },
  {
   "cell_type": "markdown",
   "metadata": {},
   "source": [
    "## Group Assignment\n",
    "### Team Number: 18\n",
    "### Team Member Names: Daniel Kim, Andre Slavescu, Kitty Cai \n",
    "### Team Strategy Chosen: SAFE"
   ]
  },
  {
   "cell_type": "markdown",
   "metadata": {},
   "source": [
    "First check if the stock is US"
   ]
  },
  {
   "cell_type": "code",
   "execution_count": 14,
   "metadata": {},
   "outputs": [
    {
     "data": {
      "text/html": [
       "<div>\n",
       "<style scoped>\n",
       "    .dataframe tbody tr th:only-of-type {\n",
       "        vertical-align: middle;\n",
       "    }\n",
       "\n",
       "    .dataframe tbody tr th {\n",
       "        vertical-align: top;\n",
       "    }\n",
       "\n",
       "    .dataframe thead th {\n",
       "        text-align: right;\n",
       "    }\n",
       "</style>\n",
       "<table border=\"1\" class=\"dataframe\">\n",
       "  <thead>\n",
       "    <tr style=\"text-align: right;\">\n",
       "      <th></th>\n",
       "      <th>AAPL</th>\n",
       "    </tr>\n",
       "  </thead>\n",
       "  <tbody>\n",
       "    <tr>\n",
       "      <th>0</th>\n",
       "      <td>ABBV</td>\n",
       "    </tr>\n",
       "    <tr>\n",
       "      <th>1</th>\n",
       "      <td>ABT</td>\n",
       "    </tr>\n",
       "    <tr>\n",
       "      <th>2</th>\n",
       "      <td>ACN</td>\n",
       "    </tr>\n",
       "    <tr>\n",
       "      <th>3</th>\n",
       "      <td>AGN</td>\n",
       "    </tr>\n",
       "    <tr>\n",
       "      <th>4</th>\n",
       "      <td>AIG</td>\n",
       "    </tr>\n",
       "  </tbody>\n",
       "</table>\n",
       "</div>"
      ],
      "text/plain": [
       "   AAPL\n",
       "0  ABBV\n",
       "1   ABT\n",
       "2   ACN\n",
       "3   AGN\n",
       "4   AIG"
      ]
     },
     "execution_count": 14,
     "metadata": {},
     "output_type": "execute_result"
    }
   ],
   "source": [
    "listed = pd.read_csv('Tickers.csv')\n",
    "listed.head()"
   ]
  },
  {
   "cell_type": "code",
   "execution_count": 13,
   "metadata": {},
   "outputs": [
    {
     "data": {
      "text/plain": [
       "{'zip': 'K2P 2L8',\n",
       " 'sector': 'Technology',\n",
       " 'fullTimeEmployees': 7000,\n",
       " 'longBusinessSummary': \"Shopify Inc., a commerce company, provides a commerce platform and services in Canada, the United States, the United Kingdom, Australia, Latin America, and internationally. The company's platform provides merchants to run their business in various sales channels, including web and mobile storefronts, physical retail locations, pop-up shops, social media storefronts, native mobile apps, buy buttons, and marketplaces; and enables to manage products and inventory, process orders and payments, fulfill and ship orders, new buyers and build customer relationships, source products, leverage analytics and reporting, and access financing. It also sells custom themes and apps, and registration of domain names. The company was formerly known as Jaded Pixel Technologies Inc. and changed its name to Shopify Inc. in November 2011. Shopify Inc. was incorporated in 2004 and is headquartered in Ottawa, Canada.\",\n",
       " 'city': 'Ottawa',\n",
       " 'phone': '613 241 2828',\n",
       " 'state': 'ON',\n",
       " 'country': 'Canada',\n",
       " 'companyOfficers': [],\n",
       " 'website': 'http://www.shopify.com',\n",
       " 'maxAge': 1,\n",
       " 'address1': \"151 O'Connor Street\",\n",
       " 'industry': 'Software—Application',\n",
       " 'address2': 'Ground floor',\n",
       " 'ebitdaMargins': 0.12267,\n",
       " 'profitMargins': 0.81001997,\n",
       " 'grossMargins': 0.54468,\n",
       " 'operatingCashflow': 489336000,\n",
       " 'revenueGrowth': 0.464,\n",
       " 'operatingMargins': 0.1101,\n",
       " 'ebitda': 516404992,\n",
       " 'targetLowPrice': 1645.96,\n",
       " 'recommendationKey': 'buy',\n",
       " 'grossProfits': 1541520000,\n",
       " 'freeCashflow': 522548128,\n",
       " 'targetMedianPrice': 1772.68,\n",
       " 'currentPrice': 1919.64,\n",
       " 'earningsGrowth': 4.858,\n",
       " 'currentRatio': 13.968,\n",
       " 'returnOnAssets': 0.027590001,\n",
       " 'numberOfAnalystOpinions': 3,\n",
       " 'targetMeanPrice': 1965.84,\n",
       " 'debtToEquity': 9.676,\n",
       " 'returnOnEquity': 0.38865003,\n",
       " 'targetHighPrice': 2478.85,\n",
       " 'totalCash': 7518693888,\n",
       " 'totalDebt': 1100184064,\n",
       " 'totalRevenue': 4209575936,\n",
       " 'totalCashPerShare': 59.862,\n",
       " 'financialCurrency': 'USD',\n",
       " 'revenuePerShare': 34.011,\n",
       " 'quickRatio': 12.954,\n",
       " 'recommendationMean': 1.7,\n",
       " 'exchange': 'TOR',\n",
       " 'shortName': 'SHOPIFY INC',\n",
       " 'longName': 'Shopify Inc.',\n",
       " 'exchangeTimezoneName': 'America/Toronto',\n",
       " 'exchangeTimezoneShortName': 'EDT',\n",
       " 'isEsgPopulated': False,\n",
       " 'gmtOffSetMilliseconds': '-14400000',\n",
       " 'quoteType': 'EQUITY',\n",
       " 'symbol': 'SHOP.TO',\n",
       " 'messageBoardId': 'finmb_84159238',\n",
       " 'market': 'ca_market',\n",
       " 'annualHoldingsTurnover': None,\n",
       " 'enterpriseToRevenue': 53.715,\n",
       " 'beta3Year': None,\n",
       " 'enterpriseToEbitda': 437.869,\n",
       " '52WeekChange': 0.3685285,\n",
       " 'morningStarRiskRating': None,\n",
       " 'forwardEps': 7.29,\n",
       " 'revenueQuarterlyGrowth': None,\n",
       " 'sharesOutstanding': 113633000,\n",
       " 'fundInceptionDate': None,\n",
       " 'annualReportExpenseRatio': None,\n",
       " 'totalAssets': None,\n",
       " 'bookValue': 90.546,\n",
       " 'sharesShort': 273257,\n",
       " 'sharesPercentSharesOut': 0.0022,\n",
       " 'fundFamily': None,\n",
       " 'lastFiscalYearEnd': 1609372800,\n",
       " 'heldPercentInstitutions': 0.70537,\n",
       " 'netIncomeToCommon': 3409841920,\n",
       " 'trailingEps': 33.407,\n",
       " 'lastDividendValue': None,\n",
       " 'SandP52WeekChange': 0.32762754,\n",
       " 'priceToBook': 21.200716,\n",
       " 'heldPercentInsiders': 0.00275,\n",
       " 'nextFiscalYearEnd': 1672444800,\n",
       " 'yield': None,\n",
       " 'mostRecentQuarter': 1632960000,\n",
       " 'shortRatio': 2.11,\n",
       " 'sharesShortPreviousMonthDate': 1631664000,\n",
       " 'floatShares': 113463575,\n",
       " 'beta': 1.487301,\n",
       " 'enterpriseValue': 226117943296,\n",
       " 'priceHint': 2,\n",
       " 'threeYearAverageReturn': None,\n",
       " 'lastSplitDate': None,\n",
       " 'lastSplitFactor': None,\n",
       " 'legalType': None,\n",
       " 'lastDividendDate': None,\n",
       " 'morningStarOverallRating': None,\n",
       " 'earningsQuarterlyGrowth': 5.011,\n",
       " 'priceToSalesTrailing12Months': 56.65378,\n",
       " 'dateShortInterest': 1634256000,\n",
       " 'pegRatio': 9.81,\n",
       " 'ytdReturn': None,\n",
       " 'forwardPE': 263.3251,\n",
       " 'lastCapGain': None,\n",
       " 'shortPercentOfFloat': 0.0042,\n",
       " 'sharesShortPriorMonth': 220036,\n",
       " 'impliedSharesOutstanding': 125600000,\n",
       " 'category': None,\n",
       " 'fiveYearAverageReturn': None,\n",
       " 'previousClose': 1851.4,\n",
       " 'regularMarketOpen': 1870.42,\n",
       " 'twoHundredDayAverage': 1726.753,\n",
       " 'trailingAnnualDividendYield': None,\n",
       " 'payoutRatio': 0,\n",
       " 'volume24Hr': None,\n",
       " 'regularMarketDayHigh': 1930.1,\n",
       " 'navPrice': None,\n",
       " 'averageDailyVolume10Day': 185812,\n",
       " 'regularMarketPreviousClose': 1851.4,\n",
       " 'fiftyDayAverage': 1783.1669,\n",
       " 'trailingAnnualDividendRate': None,\n",
       " 'open': 1870.42,\n",
       " 'toCurrency': None,\n",
       " 'averageVolume10days': 185812,\n",
       " 'expireDate': None,\n",
       " 'algorithm': None,\n",
       " 'dividendRate': None,\n",
       " 'exDividendDate': None,\n",
       " 'circulatingSupply': None,\n",
       " 'startDate': None,\n",
       " 'regularMarketDayLow': 1862.07,\n",
       " 'currency': 'CAD',\n",
       " 'trailingPE': 57.462208,\n",
       " 'regularMarketVolume': 149124,\n",
       " 'lastMarket': None,\n",
       " 'maxSupply': None,\n",
       " 'openInterest': None,\n",
       " 'marketCap': 238488403968,\n",
       " 'volumeAllCurrencies': None,\n",
       " 'strikePrice': None,\n",
       " 'averageVolume': 128082,\n",
       " 'dayLow': 1862.07,\n",
       " 'ask': 1920.07,\n",
       " 'askSize': 0,\n",
       " 'volume': 149124,\n",
       " 'fiftyTwoWeekHigh': 2075.88,\n",
       " 'fromCurrency': None,\n",
       " 'fiveYearAvgDividendYield': None,\n",
       " 'fiftyTwoWeekLow': 1140,\n",
       " 'bid': 1918.97,\n",
       " 'tradeable': False,\n",
       " 'dividendYield': None,\n",
       " 'bidSize': 0,\n",
       " 'dayHigh': 1930.1,\n",
       " 'regularMarketPrice': 1919.64,\n",
       " 'logo_url': 'https://logo.clearbit.com/shopify.com'}"
      ]
     },
     "execution_count": 13,
     "metadata": {},
     "output_type": "execute_result"
    }
   ],
   "source": [
    "check = yf.Ticker(\"SHOP.TO\")\n",
    "\n",
    "check.info"
   ]
  },
  {
   "cell_type": "markdown",
   "metadata": {},
   "source": [
    "Check if stock has an average daily volume of at least 10 000 shares"
   ]
  },
  {
   "cell_type": "code",
   "execution_count": null,
   "metadata": {},
   "outputs": [],
   "source": []
  },
  {
   "cell_type": "markdown",
   "metadata": {},
   "source": [
    "Create a DataFrame called \"FinalPortfolio\"\n",
    "\n",
    "Index starts at 1 and ends at the number of stocks the code chose\n",
    "\n",
    "Have the following headings: Ticker, Price, Shares, Value, Weight\n",
    "\n",
    "Show the total adds to $100 000 and weight is 100%"
   ]
  },
  {
   "cell_type": "markdown",
   "metadata": {},
   "source": [
    "Find a way to pick 10 - 20 stocks"
   ]
  },
  {
   "cell_type": "code",
   "execution_count": null,
   "metadata": {},
   "outputs": [],
   "source": []
  },
  {
   "cell_type": "markdown",
   "metadata": {},
   "source": [
    "Find a way to weight the stocks and put in the $10 000 USD based on the weighs\n"
   ]
  },
  {
   "cell_type": "code",
   "execution_count": null,
   "metadata": {},
   "outputs": [],
   "source": []
  },
  {
   "cell_type": "markdown",
   "metadata": {},
   "source": [
    "Create a DataFrame called \"FinalPortfolio\"\n",
    "\n",
    "Index starts at 1 and ends at the number of stocks the code chose\n",
    "\n",
    "Have the following headings: Ticker, Price, Shares, Value, Weight\n",
    "\n",
    "Show the total adds to $100 000 and weight is 100%"
   ]
  },
  {
   "cell_type": "code",
   "execution_count": null,
   "metadata": {},
   "outputs": [],
   "source": []
  },
  {
   "cell_type": "markdown",
   "metadata": {},
   "source": [
    "Create final DataFrame \"Stocks\"\n",
    "\n",
    "Same index as \"FinalPortfolio\" but only has Ticker and Shares\n",
    "\n",
    "Must output DataFrame to a CSV file titled “Stocks_Group_18.csv” "
   ]
  },
  {
   "cell_type": "code",
   "execution_count": null,
   "metadata": {},
   "outputs": [],
   "source": []
  },
  {
   "cell_type": "markdown",
   "metadata": {},
   "source": [
    "## Contribution Declaration\n",
    "\n",
    "The following team members made a meaningful contribution to this assignment:\n",
    "\n",
    "Insert Names Here."
   ]
  }
 ],
 "metadata": {
  "kernelspec": {
   "display_name": "Python 3",
   "language": "python",
   "name": "python3"
  },
  "language_info": {
   "codemirror_mode": {
    "name": "ipython",
    "version": 3
   },
   "file_extension": ".py",
   "mimetype": "text/x-python",
   "name": "python",
   "nbconvert_exporter": "python",
   "pygments_lexer": "ipython3",
   "version": "3.8.8"
  }
 },
 "nbformat": 4,
 "nbformat_minor": 4
}
