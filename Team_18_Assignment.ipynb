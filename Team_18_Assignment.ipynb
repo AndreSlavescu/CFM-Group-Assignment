{
 "cells": [
  {
   "cell_type": "code",
   "execution_count": 2,
   "metadata": {},
   "outputs": [],
   "source": [
    "from IPython.display import display, Math, Latex\n",
    "\n",
    "import pandas as pd\n",
    "import numpy as np\n",
    "import numpy_financial as npf\n",
    "import yfinance as yf\n",
    "import matplotlib.pyplot as plt\n",
    "from datetime import datetime"
   ]
  },
  {
   "cell_type": "markdown",
   "metadata": {},
   "source": [
    "## Group Assignment\n",
    "### Team Number: 18\n",
    "### Team Member Names: Daniel Kim, Andre Slavescu, Kitty Cai \n",
    "### Team Strategy Chosen: SAFE"
   ]
  },
  {
   "cell_type": "markdown",
   "metadata": {},
   "source": [
    "First check if the stock is US"
   ]
  },
  {
   "cell_type": "code",
   "execution_count": 3,
   "metadata": {},
   "outputs": [
    {
     "data": {
      "text/html": [
       "<div>\n",
       "<style scoped>\n",
       "    .dataframe tbody tr th:only-of-type {\n",
       "        vertical-align: middle;\n",
       "    }\n",
       "\n",
       "    .dataframe tbody tr th {\n",
       "        vertical-align: top;\n",
       "    }\n",
       "\n",
       "    .dataframe thead th {\n",
       "        text-align: right;\n",
       "    }\n",
       "</style>\n",
       "<table border=\"1\" class=\"dataframe\">\n",
       "  <thead>\n",
       "    <tr style=\"text-align: right;\">\n",
       "      <th></th>\n",
       "      <th>AAPL</th>\n",
       "    </tr>\n",
       "  </thead>\n",
       "  <tbody>\n",
       "    <tr>\n",
       "      <th>0</th>\n",
       "      <td>ABBV</td>\n",
       "    </tr>\n",
       "    <tr>\n",
       "      <th>1</th>\n",
       "      <td>ABT</td>\n",
       "    </tr>\n",
       "    <tr>\n",
       "      <th>2</th>\n",
       "      <td>ACN</td>\n",
       "    </tr>\n",
       "    <tr>\n",
       "      <th>3</th>\n",
       "      <td>AGN</td>\n",
       "    </tr>\n",
       "    <tr>\n",
       "      <th>4</th>\n",
       "      <td>AIG</td>\n",
       "    </tr>\n",
       "  </tbody>\n",
       "</table>\n",
       "</div>"
      ],
      "text/plain": [
       "   AAPL\n",
       "0  ABBV\n",
       "1   ABT\n",
       "2   ACN\n",
       "3   AGN\n",
       "4   AIG"
      ]
     },
     "execution_count": 3,
     "metadata": {},
     "output_type": "execute_result"
    }
   ],
   "source": [
    "# Read the csv file\n",
    "listed = pd.read_csv('Tickers.csv')\n",
    "listed.head()"
   ]
  },
  {
   "cell_type": "code",
   "execution_count": 4,
   "metadata": {},
   "outputs": [
    {
     "data": {
      "text/plain": [
       "AAPL    ABT\n",
       "Name: 1, dtype: object"
      ]
     },
     "execution_count": 4,
     "metadata": {},
     "output_type": "execute_result"
    }
   ],
   "source": [
    "listed.iloc[1]"
   ]
  },
  {
   "cell_type": "code",
   "execution_count": 5,
   "metadata": {},
   "outputs": [],
   "source": [
    "list1 = listed.values.tolist()"
   ]
  },
  {
   "cell_type": "code",
   "execution_count": 6,
   "metadata": {},
   "outputs": [
    {
     "name": "stdout",
     "output_type": "stream",
     "text": [
      "['ABBV']\n",
      "['ABT']\n",
      "['ACN']\n",
      "['AGN']\n",
      "['AIG']\n",
      "['AMZN']\n",
      "['AXP']\n",
      "['BA']\n",
      "['BAC']\n",
      "['BIIB']\n",
      "['BK']\n",
      "['BLK']\n",
      "['BMY']\n",
      "['C']\n",
      "['CAT']\n",
      "['CELG']\n",
      "['CL']\n",
      "['CMCSA']\n",
      "['COF']\n",
      "['COP']\n",
      "['COST']\n",
      "['CSCO']\n",
      "['CVS']\n",
      "['GM']\n",
      "['GOOG']\n",
      "['JPM']\n",
      "['KMI']\n",
      "['KO']\n",
      "['LLY']\n",
      "['LMT']\n",
      "['MO']\n",
      "['MON']\n",
      "['MRK']\n",
      "['MS']\n",
      "['MSFT']\n",
      "['NEE']\n",
      "['NKE']\n",
      "['ORCL']\n",
      "['OXY']\n",
      "['PCLN']\n",
      "['PEP']\n",
      "['PFE']\n",
      "['PG']\n",
      "['PM']\n",
      "['PYPL']\n",
      "['QCOM']\n",
      "['RTN']\n",
      "['SHOP.TO']\n",
      "['SBUX']\n",
      "['SLB']\n",
      "['SO']\n",
      "['SPG']\n",
      "['T']\n",
      "['TD.TO']\n",
      "['TGT']\n",
      "['TWX']\n",
      "['TXN']\n",
      "['UNH']\n",
      "['UNP']\n",
      "['UPS']\n",
      "['USB']\n"
     ]
    }
   ],
   "source": [
    "for i in range(len(listed)):\n",
    "    x = yf.Ticker(str(list1[i][0]))\n",
    "    print(list1[i])"
   ]
  },
  {
   "cell_type": "code",
   "execution_count": 7,
   "metadata": {},
   "outputs": [
    {
     "data": {
      "text/plain": [
       "61"
      ]
     },
     "execution_count": 7,
     "metadata": {},
     "output_type": "execute_result"
    }
   ],
   "source": [
    "len(listed)"
   ]
  },
  {
   "cell_type": "code",
   "execution_count": 8,
   "metadata": {},
   "outputs": [
    {
     "data": {
      "text/plain": [
       "'ABT'"
      ]
     },
     "execution_count": 8,
     "metadata": {},
     "output_type": "execute_result"
    }
   ],
   "source": [
    "str(list1[1][0])"
   ]
  },
  {
   "cell_type": "code",
   "execution_count": 9,
   "metadata": {},
   "outputs": [
    {
     "data": {
      "text/plain": [
       "['ABBV',\n",
       " 'ABT',\n",
       " 'ACN',\n",
       " 'AGN',\n",
       " 'AIG',\n",
       " 'AMZN',\n",
       " 'AXP',\n",
       " 'BA',\n",
       " 'BAC',\n",
       " 'BIIB',\n",
       " 'BK',\n",
       " 'BLK',\n",
       " 'BMY',\n",
       " 'C',\n",
       " 'CAT',\n",
       " 'CELG',\n",
       " 'CL',\n",
       " 'CMCSA',\n",
       " 'COF',\n",
       " 'COP',\n",
       " 'COST',\n",
       " 'CSCO',\n",
       " 'CVS',\n",
       " 'GM',\n",
       " 'GOOG',\n",
       " 'JPM',\n",
       " 'KMI',\n",
       " 'KO',\n",
       " 'LLY',\n",
       " 'LMT',\n",
       " 'MO',\n",
       " 'MON',\n",
       " 'MRK',\n",
       " 'MS',\n",
       " 'MSFT',\n",
       " 'NEE',\n",
       " 'NKE',\n",
       " 'ORCL',\n",
       " 'OXY',\n",
       " 'PCLN',\n",
       " 'PEP',\n",
       " 'PFE',\n",
       " 'PG',\n",
       " 'PM',\n",
       " 'PYPL',\n",
       " 'QCOM',\n",
       " 'RTN',\n",
       " 'SHOP.TO',\n",
       " 'SBUX',\n",
       " 'SLB',\n",
       " 'SO',\n",
       " 'SPG',\n",
       " 'T',\n",
       " 'TD.TO',\n",
       " 'TGT',\n",
       " 'TWX',\n",
       " 'TXN',\n",
       " 'UNH',\n",
       " 'UNP',\n",
       " 'UPS',\n",
       " 'USB']"
      ]
     },
     "execution_count": 9,
     "metadata": {},
     "output_type": "execute_result"
    }
   ],
   "source": [
    "stock_list = []\n",
    "for i in range(len(list1)):\n",
    "    stock_list.append(list1[i][0])\n",
    "stock_list"
   ]
  },
  {
   "cell_type": "code",
   "execution_count": 10,
   "metadata": {},
   "outputs": [
    {
     "data": {
      "text/plain": [
       "['ABBV',\n",
       " 'ABT',\n",
       " 'ACN',\n",
       " 'AGN',\n",
       " 'AIG',\n",
       " 'AMZN',\n",
       " 'AXP',\n",
       " 'BA',\n",
       " 'BAC',\n",
       " 'BIIB',\n",
       " 'BK',\n",
       " 'BLK',\n",
       " 'BMY',\n",
       " 'C',\n",
       " 'CAT',\n",
       " 'CELG',\n",
       " 'CL',\n",
       " 'CMCSA',\n",
       " 'COF',\n",
       " 'COP',\n",
       " 'COST',\n",
       " 'CSCO',\n",
       " 'CVS',\n",
       " 'GM',\n",
       " 'GOOG',\n",
       " 'JPM',\n",
       " 'KMI',\n",
       " 'KO',\n",
       " 'LLY',\n",
       " 'LMT',\n",
       " 'MO',\n",
       " 'MON',\n",
       " 'MRK',\n",
       " 'MS',\n",
       " 'MSFT',\n",
       " 'NEE',\n",
       " 'NKE',\n",
       " 'ORCL',\n",
       " 'OXY',\n",
       " 'PCLN',\n",
       " 'PEP',\n",
       " 'PFE',\n",
       " 'PG',\n",
       " 'PM',\n",
       " 'PYPL',\n",
       " 'QCOM',\n",
       " 'RTN',\n",
       " 'SHOP.TO',\n",
       " 'SBUX',\n",
       " 'SLB',\n",
       " 'SO',\n",
       " 'SPG',\n",
       " 'T',\n",
       " 'TD.TO',\n",
       " 'TGT',\n",
       " 'TWX',\n",
       " 'TXN',\n",
       " 'UNH',\n",
       " 'UNP',\n",
       " 'UPS',\n",
       " 'USB']"
      ]
     },
     "execution_count": 10,
     "metadata": {},
     "output_type": "execute_result"
    }
   ],
   "source": [
    "check = yf.Ticker(stock_list[i])\n",
    "for i in range(len(stock_list)):   \n",
    "    if \"market\" not in check.info:\n",
    "        stock_list.pop(i)\n",
    "\n",
    "stock_list\n",
    "\n",
    "# if regularMarketPrice is null then eliminate\n",
    "# if market not us_market then eliminate"
   ]
  },
  {
   "cell_type": "code",
   "execution_count": 11,
   "metadata": {},
   "outputs": [
    {
     "data": {
      "text/plain": [
       "61"
      ]
     },
     "execution_count": 11,
     "metadata": {},
     "output_type": "execute_result"
    }
   ],
   "source": [
    "len(stock_list)"
   ]
  },
  {
   "cell_type": "code",
   "execution_count": 12,
   "metadata": {},
   "outputs": [
    {
     "name": "stdout",
     "output_type": "stream",
     "text": [
      "ABBV\n",
      "ACN\n",
      "AIG\n",
      "AXP\n",
      "BAC\n",
      "BK\n",
      "BMY\n",
      "CAT\n",
      "CL\n",
      "COF\n",
      "COST\n",
      "CVS\n",
      "GOOG\n",
      "KMI\n",
      "LLY\n",
      "MO\n",
      "MRK\n",
      "MSFT\n",
      "NKE\n",
      "OXY\n",
      "PEP\n",
      "PG\n",
      "PYPL\n"
     ]
    },
    {
     "ename": "KeyError",
     "evalue": "'market'",
     "output_type": "error",
     "traceback": [
      "\u001b[1;31m---------------------------------------------------------------------------\u001b[0m",
      "\u001b[1;31mKeyError\u001b[0m                                  Traceback (most recent call last)",
      "\u001b[1;32m<ipython-input-12-9201ba7ccab0>\u001b[0m in \u001b[0;36m<module>\u001b[1;34m\u001b[0m\n\u001b[0;32m      1\u001b[0m \u001b[1;32mfor\u001b[0m \u001b[0mi\u001b[0m \u001b[1;32min\u001b[0m \u001b[0mstock_list\u001b[0m\u001b[1;33m:\u001b[0m\u001b[1;33m\u001b[0m\u001b[1;33m\u001b[0m\u001b[0m\n\u001b[1;32m----> 2\u001b[1;33m     \u001b[1;32mif\u001b[0m \u001b[1;33m(\u001b[0m\u001b[0myf\u001b[0m\u001b[1;33m.\u001b[0m\u001b[0mTicker\u001b[0m\u001b[1;33m(\u001b[0m\u001b[0mi\u001b[0m\u001b[1;33m)\u001b[0m\u001b[1;33m.\u001b[0m\u001b[0minfo\u001b[0m\u001b[1;33m[\u001b[0m\u001b[1;34m\"market\"\u001b[0m\u001b[1;33m]\u001b[0m \u001b[1;33m==\u001b[0m \u001b[1;34m\"us_market\"\u001b[0m\u001b[1;33m)\u001b[0m\u001b[1;33m:\u001b[0m\u001b[1;33m\u001b[0m\u001b[1;33m\u001b[0m\u001b[0m\n\u001b[0m\u001b[0;32m      3\u001b[0m         \u001b[0mstock_list\u001b[0m\u001b[1;33m.\u001b[0m\u001b[0mremove\u001b[0m\u001b[1;33m(\u001b[0m\u001b[0mi\u001b[0m\u001b[1;33m)\u001b[0m\u001b[1;33m\u001b[0m\u001b[1;33m\u001b[0m\u001b[0m\n\u001b[0;32m      4\u001b[0m         \u001b[0mprint\u001b[0m\u001b[1;33m(\u001b[0m\u001b[0mi\u001b[0m\u001b[1;33m)\u001b[0m\u001b[1;33m\u001b[0m\u001b[1;33m\u001b[0m\u001b[0m\n\u001b[0;32m      5\u001b[0m \u001b[1;32mfor\u001b[0m \u001b[0mi\u001b[0m \u001b[1;32min\u001b[0m \u001b[0mstock_list\u001b[0m\u001b[1;33m:\u001b[0m\u001b[1;33m\u001b[0m\u001b[1;33m\u001b[0m\u001b[0m\n",
      "\u001b[1;31mKeyError\u001b[0m: 'market'"
     ]
    }
   ],
   "source": [
    "for i in stock_list:\n",
    "    if (yf.Ticker(i).info[\"market\"] == \"us_market\"):\n",
    "        stock_list.remove(i)\n",
    "        print(i)\n",
    "for i in stock_list:\n",
    "    if (yf.Ticker(i).info[\"averageDailyVolume\"]) < 10000:\n",
    "        stock_list.remove(i)\n",
    "        print(i)\n",
    "\n",
    "stock_list"
   ]
  },
  {
   "cell_type": "code",
   "execution_count": 13,
   "metadata": {},
   "outputs": [
    {
     "data": {
      "text/plain": [
       "{'regularMarketPrice': None, 'logo_url': ''}"
      ]
     },
     "execution_count": 13,
     "metadata": {},
     "output_type": "execute_result"
    }
   ],
   "source": [
    "# Fake tickers, AGN CELG\n",
    "check = yf.Ticker(\"CELG\")\n",
    "\n",
    "check.info"
   ]
  },
  {
   "cell_type": "code",
   "execution_count": 14,
   "metadata": {},
   "outputs": [
    {
     "name": "stdout",
     "output_type": "stream",
     "text": [
      "APPL\n"
     ]
    }
   ],
   "source": [
    "check = yf.Ticker(\"APPL\")\n",
    "\n",
    "check.info\n",
    "\n",
    "if check.info[\"market\"] == \"us_market\":\n",
    "    print(check.info[\"symbol\"])\n",
    "\n",
    "# if regularMarketPrice is null then eliminate\n",
    "# if market not us_market then eliminate"
   ]
  },
  {
   "cell_type": "code",
   "execution_count": 16,
   "metadata": {},
   "outputs": [
    {
     "data": {
      "text/plain": [
       "['ABT', 'AGN', 'AMZN', 'BA', 'BIIB']"
      ]
     },
     "execution_count": 16,
     "metadata": {},
     "output_type": "execute_result"
    }
   ],
   "source": [
    "manipulation = stock_list[:5]\n",
    "manipulation"
   ]
  },
  {
   "cell_type": "code",
   "execution_count": 17,
   "metadata": {},
   "outputs": [
    {
     "name": "stdout",
     "output_type": "stream",
     "text": [
      "- AGN: No data found, symbol may be delisted\n"
     ]
    }
   ],
   "source": [
    "stock_list_manipulation = pd.DataFrame()\n",
    "\n",
    "for ticker in manipulation:\n",
    "    x = yf.Ticker(ticker)\n",
    "    \n",
    "    #Dates\n",
    "    start_date = '2019-01-01'\n",
    "    end_date = '2021-07-01'\n",
    "    \n",
    "    y = x.history(start = start_date, end = end_date)\n",
    "    \n",
    "    stock_list_manipulation[ticker + 'close'] = y['Close']"
   ]
  },
  {
   "cell_type": "code",
   "execution_count": 18,
   "metadata": {},
   "outputs": [
    {
     "data": {
      "text/html": [
       "<div>\n",
       "<style scoped>\n",
       "    .dataframe tbody tr th:only-of-type {\n",
       "        vertical-align: middle;\n",
       "    }\n",
       "\n",
       "    .dataframe tbody tr th {\n",
       "        vertical-align: top;\n",
       "    }\n",
       "\n",
       "    .dataframe thead th {\n",
       "        text-align: right;\n",
       "    }\n",
       "</style>\n",
       "<table border=\"1\" class=\"dataframe\">\n",
       "  <thead>\n",
       "    <tr style=\"text-align: right;\">\n",
       "      <th></th>\n",
       "      <th>ABTclose</th>\n",
       "      <th>AGNclose</th>\n",
       "      <th>AMZNclose</th>\n",
       "      <th>BAclose</th>\n",
       "      <th>BIIBclose</th>\n",
       "    </tr>\n",
       "    <tr>\n",
       "      <th>Date</th>\n",
       "      <th></th>\n",
       "      <th></th>\n",
       "      <th></th>\n",
       "      <th></th>\n",
       "      <th></th>\n",
       "    </tr>\n",
       "  </thead>\n",
       "  <tbody>\n",
       "    <tr>\n",
       "      <th>2019-01-02</th>\n",
       "      <td>66.280502</td>\n",
       "      <td>NaN</td>\n",
       "      <td>1539.130005</td>\n",
       "      <td>314.645142</td>\n",
       "      <td>304.690002</td>\n",
       "    </tr>\n",
       "    <tr>\n",
       "      <th>2019-01-03</th>\n",
       "      <td>63.152443</td>\n",
       "      <td>NaN</td>\n",
       "      <td>1500.280029</td>\n",
       "      <td>302.100525</td>\n",
       "      <td>307.000000</td>\n",
       "    </tr>\n",
       "    <tr>\n",
       "      <th>2019-01-04</th>\n",
       "      <td>64.954880</td>\n",
       "      <td>NaN</td>\n",
       "      <td>1575.390015</td>\n",
       "      <td>317.822601</td>\n",
       "      <td>318.329987</td>\n",
       "    </tr>\n",
       "    <tr>\n",
       "      <th>2019-01-07</th>\n",
       "      <td>65.927635</td>\n",
       "      <td>NaN</td>\n",
       "      <td>1629.510010</td>\n",
       "      <td>318.823425</td>\n",
       "      <td>322.399994</td>\n",
       "    </tr>\n",
       "    <tr>\n",
       "      <th>2019-01-08</th>\n",
       "      <td>65.136093</td>\n",
       "      <td>NaN</td>\n",
       "      <td>1656.579956</td>\n",
       "      <td>330.891907</td>\n",
       "      <td>324.440002</td>\n",
       "    </tr>\n",
       "  </tbody>\n",
       "</table>\n",
       "</div>"
      ],
      "text/plain": [
       "             ABTclose  AGNclose    AMZNclose     BAclose   BIIBclose\n",
       "Date                                                                \n",
       "2019-01-02  66.280502       NaN  1539.130005  314.645142  304.690002\n",
       "2019-01-03  63.152443       NaN  1500.280029  302.100525  307.000000\n",
       "2019-01-04  64.954880       NaN  1575.390015  317.822601  318.329987\n",
       "2019-01-07  65.927635       NaN  1629.510010  318.823425  322.399994\n",
       "2019-01-08  65.136093       NaN  1656.579956  330.891907  324.440002"
      ]
     },
     "execution_count": 18,
     "metadata": {},
     "output_type": "execute_result"
    }
   ],
   "source": [
    "stock_list_manipulation.head()"
   ]
  },
  {
   "cell_type": "code",
   "execution_count": 20,
   "metadata": {},
   "outputs": [
    {
     "data": {
      "text/html": [
       "<div>\n",
       "<style scoped>\n",
       "    .dataframe tbody tr th:only-of-type {\n",
       "        vertical-align: middle;\n",
       "    }\n",
       "\n",
       "    .dataframe tbody tr th {\n",
       "        vertical-align: top;\n",
       "    }\n",
       "\n",
       "    .dataframe thead th {\n",
       "        text-align: right;\n",
       "    }\n",
       "</style>\n",
       "<table border=\"1\" class=\"dataframe\">\n",
       "  <thead>\n",
       "    <tr style=\"text-align: right;\">\n",
       "      <th></th>\n",
       "      <th>ABTclose</th>\n",
       "      <th>AGNclose</th>\n",
       "      <th>AMZNclose</th>\n",
       "      <th>BAclose</th>\n",
       "      <th>BIIBclose</th>\n",
       "    </tr>\n",
       "    <tr>\n",
       "      <th>Date</th>\n",
       "      <th></th>\n",
       "      <th></th>\n",
       "      <th></th>\n",
       "      <th></th>\n",
       "      <th></th>\n",
       "    </tr>\n",
       "  </thead>\n",
       "  <tbody>\n",
       "    <tr>\n",
       "      <th>2019-01-02</th>\n",
       "      <td>NaN</td>\n",
       "      <td>NaN</td>\n",
       "      <td>NaN</td>\n",
       "      <td>NaN</td>\n",
       "      <td>NaN</td>\n",
       "    </tr>\n",
       "    <tr>\n",
       "      <th>2019-01-03</th>\n",
       "      <td>-0.047194</td>\n",
       "      <td>NaN</td>\n",
       "      <td>-0.025242</td>\n",
       "      <td>-0.039869</td>\n",
       "      <td>0.007581</td>\n",
       "    </tr>\n",
       "    <tr>\n",
       "      <th>2019-01-04</th>\n",
       "      <td>0.028541</td>\n",
       "      <td>NaN</td>\n",
       "      <td>0.050064</td>\n",
       "      <td>0.052043</td>\n",
       "      <td>0.036905</td>\n",
       "    </tr>\n",
       "    <tr>\n",
       "      <th>2019-01-07</th>\n",
       "      <td>0.014976</td>\n",
       "      <td>NaN</td>\n",
       "      <td>0.034353</td>\n",
       "      <td>0.003149</td>\n",
       "      <td>0.012785</td>\n",
       "    </tr>\n",
       "    <tr>\n",
       "      <th>2019-01-08</th>\n",
       "      <td>-0.012006</td>\n",
       "      <td>NaN</td>\n",
       "      <td>0.016612</td>\n",
       "      <td>0.037853</td>\n",
       "      <td>0.006328</td>\n",
       "    </tr>\n",
       "  </tbody>\n",
       "</table>\n",
       "</div>"
      ],
      "text/plain": [
       "            ABTclose  AGNclose  AMZNclose   BAclose  BIIBclose\n",
       "Date                                                          \n",
       "2019-01-02       NaN       NaN        NaN       NaN        NaN\n",
       "2019-01-03 -0.047194       NaN  -0.025242 -0.039869   0.007581\n",
       "2019-01-04  0.028541       NaN   0.050064  0.052043   0.036905\n",
       "2019-01-07  0.014976       NaN   0.034353  0.003149   0.012785\n",
       "2019-01-08 -0.012006       NaN   0.016612  0.037853   0.006328"
      ]
     },
     "execution_count": 20,
     "metadata": {},
     "output_type": "execute_result"
    }
   ],
   "source": [
    "returns = stock_list_manipulation.pct_change()\n",
    "returns.head()"
   ]
  },
  {
   "cell_type": "code",
   "execution_count": 21,
   "metadata": {},
   "outputs": [
    {
     "data": {
      "text/plain": [
       "ABTclose     0.018802\n",
       "AGNclose          NaN\n",
       "AMZNclose    0.019058\n",
       "BAclose      0.038228\n",
       "BIIBclose    0.037547\n",
       "dtype: float64"
      ]
     },
     "execution_count": 21,
     "metadata": {},
     "output_type": "execute_result"
    }
   ],
   "source": [
    "#Calculate the standard deviation\n",
    "returns.std()"
   ]
  },
  {
   "cell_type": "code",
   "execution_count": 22,
   "metadata": {},
   "outputs": [
    {
     "data": {
      "text/html": [
       "<div>\n",
       "<style scoped>\n",
       "    .dataframe tbody tr th:only-of-type {\n",
       "        vertical-align: middle;\n",
       "    }\n",
       "\n",
       "    .dataframe tbody tr th {\n",
       "        vertical-align: top;\n",
       "    }\n",
       "\n",
       "    .dataframe thead th {\n",
       "        text-align: right;\n",
       "    }\n",
       "</style>\n",
       "<table border=\"1\" class=\"dataframe\">\n",
       "  <thead>\n",
       "    <tr style=\"text-align: right;\">\n",
       "      <th></th>\n",
       "      <th>0</th>\n",
       "    </tr>\n",
       "  </thead>\n",
       "  <tbody>\n",
       "    <tr>\n",
       "      <th>ABTclose</th>\n",
       "      <td>0.018802</td>\n",
       "    </tr>\n",
       "    <tr>\n",
       "      <th>AGNclose</th>\n",
       "      <td>NaN</td>\n",
       "    </tr>\n",
       "    <tr>\n",
       "      <th>AMZNclose</th>\n",
       "      <td>0.019058</td>\n",
       "    </tr>\n",
       "    <tr>\n",
       "      <th>BAclose</th>\n",
       "      <td>0.038228</td>\n",
       "    </tr>\n",
       "    <tr>\n",
       "      <th>BIIBclose</th>\n",
       "      <td>0.037547</td>\n",
       "    </tr>\n",
       "  </tbody>\n",
       "</table>\n",
       "</div>"
      ],
      "text/plain": [
       "                  0\n",
       "ABTclose   0.018802\n",
       "AGNclose        NaN\n",
       "AMZNclose  0.019058\n",
       "BAclose    0.038228\n",
       "BIIBclose  0.037547"
      ]
     },
     "execution_count": 22,
     "metadata": {},
     "output_type": "execute_result"
    }
   ],
   "source": [
    "std = pd.DataFrame(returns.std())\n",
    "std"
   ]
  },
  {
   "cell_type": "code",
   "execution_count": 23,
   "metadata": {},
   "outputs": [
    {
     "data": {
      "text/html": [
       "<div>\n",
       "<style scoped>\n",
       "    .dataframe tbody tr th:only-of-type {\n",
       "        vertical-align: middle;\n",
       "    }\n",
       "\n",
       "    .dataframe tbody tr th {\n",
       "        vertical-align: top;\n",
       "    }\n",
       "\n",
       "    .dataframe thead th {\n",
       "        text-align: right;\n",
       "    }\n",
       "</style>\n",
       "<table border=\"1\" class=\"dataframe\">\n",
       "  <thead>\n",
       "    <tr style=\"text-align: right;\">\n",
       "      <th></th>\n",
       "      <th>index</th>\n",
       "      <th>0</th>\n",
       "    </tr>\n",
       "  </thead>\n",
       "  <tbody>\n",
       "    <tr>\n",
       "      <th>0</th>\n",
       "      <td>ABTclose</td>\n",
       "      <td>0.018802</td>\n",
       "    </tr>\n",
       "    <tr>\n",
       "      <th>1</th>\n",
       "      <td>AGNclose</td>\n",
       "      <td>NaN</td>\n",
       "    </tr>\n",
       "    <tr>\n",
       "      <th>2</th>\n",
       "      <td>AMZNclose</td>\n",
       "      <td>0.019058</td>\n",
       "    </tr>\n",
       "    <tr>\n",
       "      <th>3</th>\n",
       "      <td>BAclose</td>\n",
       "      <td>0.038228</td>\n",
       "    </tr>\n",
       "    <tr>\n",
       "      <th>4</th>\n",
       "      <td>BIIBclose</td>\n",
       "      <td>0.037547</td>\n",
       "    </tr>\n",
       "  </tbody>\n",
       "</table>\n",
       "</div>"
      ],
      "text/plain": [
       "       index         0\n",
       "0   ABTclose  0.018802\n",
       "1   AGNclose       NaN\n",
       "2  AMZNclose  0.019058\n",
       "3    BAclose  0.038228\n",
       "4  BIIBclose  0.037547"
      ]
     },
     "execution_count": 23,
     "metadata": {},
     "output_type": "execute_result"
    }
   ],
   "source": [
    "std = std.reset_index()\n",
    "std"
   ]
  },
  {
   "cell_type": "code",
   "execution_count": 30,
   "metadata": {},
   "outputs": [
    {
     "data": {
      "text/html": [
       "<div>\n",
       "<style scoped>\n",
       "    .dataframe tbody tr th:only-of-type {\n",
       "        vertical-align: middle;\n",
       "    }\n",
       "\n",
       "    .dataframe tbody tr th {\n",
       "        vertical-align: top;\n",
       "    }\n",
       "\n",
       "    .dataframe thead th {\n",
       "        text-align: right;\n",
       "    }\n",
       "</style>\n",
       "<table border=\"1\" class=\"dataframe\">\n",
       "  <thead>\n",
       "    <tr style=\"text-align: right;\">\n",
       "      <th></th>\n",
       "      <th>stocks</th>\n",
       "      <th>standard_deviation</th>\n",
       "    </tr>\n",
       "  </thead>\n",
       "  <tbody>\n",
       "    <tr>\n",
       "      <th>0</th>\n",
       "      <td>ABTclose</td>\n",
       "      <td>0.018802</td>\n",
       "    </tr>\n",
       "    <tr>\n",
       "      <th>1</th>\n",
       "      <td>AMZNclose</td>\n",
       "      <td>0.019058</td>\n",
       "    </tr>\n",
       "    <tr>\n",
       "      <th>2</th>\n",
       "      <td>BIIBclose</td>\n",
       "      <td>0.037547</td>\n",
       "    </tr>\n",
       "    <tr>\n",
       "      <th>3</th>\n",
       "      <td>BAclose</td>\n",
       "      <td>0.038228</td>\n",
       "    </tr>\n",
       "  </tbody>\n",
       "</table>\n",
       "</div>"
      ],
      "text/plain": [
       "      stocks  standard_deviation\n",
       "0   ABTclose            0.018802\n",
       "1  AMZNclose            0.019058\n",
       "2  BIIBclose            0.037547\n",
       "3    BAclose            0.038228"
      ]
     },
     "execution_count": 30,
     "metadata": {},
     "output_type": "execute_result"
    }
   ],
   "source": [
    "std = std.rename(columns={\"index\": \"stocks\", 0: \"standard_deviation\"})\n",
    "std = std.dropna()\n",
    "std\n"
   ]
  },
  {
   "cell_type": "code",
   "execution_count": 31,
   "metadata": {},
   "outputs": [
    {
     "data": {
      "text/html": [
       "<div>\n",
       "<style scoped>\n",
       "    .dataframe tbody tr th:only-of-type {\n",
       "        vertical-align: middle;\n",
       "    }\n",
       "\n",
       "    .dataframe tbody tr th {\n",
       "        vertical-align: top;\n",
       "    }\n",
       "\n",
       "    .dataframe thead th {\n",
       "        text-align: right;\n",
       "    }\n",
       "</style>\n",
       "<table border=\"1\" class=\"dataframe\">\n",
       "  <thead>\n",
       "    <tr style=\"text-align: right;\">\n",
       "      <th></th>\n",
       "      <th>stocks</th>\n",
       "      <th>standard_deviation</th>\n",
       "    </tr>\n",
       "  </thead>\n",
       "  <tbody>\n",
       "    <tr>\n",
       "      <th>0</th>\n",
       "      <td>ABTclose</td>\n",
       "      <td>0.018802</td>\n",
       "    </tr>\n",
       "    <tr>\n",
       "      <th>1</th>\n",
       "      <td>AMZNclose</td>\n",
       "      <td>0.019058</td>\n",
       "    </tr>\n",
       "    <tr>\n",
       "      <th>2</th>\n",
       "      <td>BIIBclose</td>\n",
       "      <td>0.037547</td>\n",
       "    </tr>\n",
       "    <tr>\n",
       "      <th>3</th>\n",
       "      <td>BAclose</td>\n",
       "      <td>0.038228</td>\n",
       "    </tr>\n",
       "  </tbody>\n",
       "</table>\n",
       "</div>"
      ],
      "text/plain": [
       "      stocks  standard_deviation\n",
       "0   ABTclose            0.018802\n",
       "1  AMZNclose            0.019058\n",
       "2  BIIBclose            0.037547\n",
       "3    BAclose            0.038228"
      ]
     },
     "execution_count": 31,
     "metadata": {},
     "output_type": "execute_result"
    }
   ],
   "source": [
    "std = std.sort_values(by = 'standard_deviation')\n",
    "std"
   ]
  },
  {
   "cell_type": "code",
   "execution_count": 32,
   "metadata": {},
   "outputs": [
    {
     "data": {
      "text/html": [
       "<div>\n",
       "<style scoped>\n",
       "    .dataframe tbody tr th:only-of-type {\n",
       "        vertical-align: middle;\n",
       "    }\n",
       "\n",
       "    .dataframe tbody tr th {\n",
       "        vertical-align: top;\n",
       "    }\n",
       "\n",
       "    .dataframe thead th {\n",
       "        text-align: right;\n",
       "    }\n",
       "</style>\n",
       "<table border=\"1\" class=\"dataframe\">\n",
       "  <thead>\n",
       "    <tr style=\"text-align: right;\">\n",
       "      <th></th>\n",
       "      <th>stocks</th>\n",
       "      <th>standard_deviation</th>\n",
       "    </tr>\n",
       "  </thead>\n",
       "  <tbody>\n",
       "    <tr>\n",
       "      <th>0</th>\n",
       "      <td>ABTclose</td>\n",
       "      <td>0.018802</td>\n",
       "    </tr>\n",
       "    <tr>\n",
       "      <th>1</th>\n",
       "      <td>AMZNclose</td>\n",
       "      <td>0.019058</td>\n",
       "    </tr>\n",
       "    <tr>\n",
       "      <th>2</th>\n",
       "      <td>BIIBclose</td>\n",
       "      <td>0.037547</td>\n",
       "    </tr>\n",
       "    <tr>\n",
       "      <th>3</th>\n",
       "      <td>BAclose</td>\n",
       "      <td>0.038228</td>\n",
       "    </tr>\n",
       "  </tbody>\n",
       "</table>\n",
       "</div>"
      ],
      "text/plain": [
       "      stocks  standard_deviation\n",
       "0   ABTclose            0.018802\n",
       "1  AMZNclose            0.019058\n",
       "2  BIIBclose            0.037547\n",
       "3    BAclose            0.038228"
      ]
     },
     "execution_count": 32,
     "metadata": {},
     "output_type": "execute_result"
    }
   ],
   "source": [
    "std = std.reset_index(drop = True)\n",
    "std"
   ]
  },
  {
   "cell_type": "markdown",
   "metadata": {},
   "source": [
    "Check if stock has an average daily volume of at least 10 000 shares"
   ]
  },
  {
   "cell_type": "code",
   "execution_count": null,
   "metadata": {},
   "outputs": [],
   "source": []
  },
  {
   "cell_type": "markdown",
   "metadata": {},
   "source": [
    "Create a DataFrame called \"FinalPortfolio\"\n",
    "\n",
    "Index starts at 1 and ends at the number of stocks the code chose\n",
    "\n",
    "Have the following headings: Ticker, Price, Shares, Value, Weight\n",
    "\n",
    "Show the total adds to $100 000 and weight is 100%"
   ]
  },
  {
   "cell_type": "markdown",
   "metadata": {},
   "source": [
    "Find a way to pick 10 - 20 stocks"
   ]
  },
  {
   "cell_type": "code",
   "execution_count": null,
   "metadata": {},
   "outputs": [],
   "source": []
  },
  {
   "cell_type": "markdown",
   "metadata": {},
   "source": [
    "Find a way to weight the stocks and put in the $10 000 USD based on the weighs\n"
   ]
  },
  {
   "cell_type": "code",
   "execution_count": null,
   "metadata": {},
   "outputs": [],
   "source": []
  },
  {
   "cell_type": "markdown",
   "metadata": {},
   "source": [
    "Create a DataFrame called \"FinalPortfolio\"\n",
    "\n",
    "Index starts at 1 and ends at the number of stocks the code chose\n",
    "\n",
    "Have the following headings: Ticker, Price, Shares, Value, Weight\n",
    "\n",
    "Show the total adds to $100 000 and weight is 100%"
   ]
  },
  {
   "cell_type": "code",
   "execution_count": null,
   "metadata": {},
   "outputs": [],
   "source": []
  },
  {
   "cell_type": "markdown",
   "metadata": {},
   "source": [
    "Create final DataFrame \"Stocks\"\n",
    "\n",
    "Same index as \"FinalPortfolio\" but only has Ticker and Shares\n",
    "\n",
    "Must output DataFrame to a CSV file titled “Stocks_Group_18.csv” "
   ]
  },
  {
   "cell_type": "code",
   "execution_count": null,
   "metadata": {},
   "outputs": [],
   "source": []
  },
  {
   "cell_type": "markdown",
   "metadata": {},
   "source": [
    "## Contribution Declaration\n",
    "\n",
    "The following team members made a meaningful contribution to this assignment:\n",
    "\n",
    "Insert Names Here."
   ]
  }
 ],
 "metadata": {
  "interpreter": {
   "hash": "2d0f1f4f72d799f3db574c7a8ccc66a76fa5e9f850769b2c38edad22ad6ff8d5"
  },
  "kernelspec": {
   "display_name": "Python 3.8.8 64-bit ('base': conda)",
   "name": "python3"
  },
  "language_info": {
   "codemirror_mode": {
    "name": "ipython",
    "version": 3
   },
   "file_extension": ".py",
   "mimetype": "text/x-python",
   "name": "python",
   "nbconvert_exporter": "python",
   "pygments_lexer": "ipython3",
   "version": "3.8.8"
  }
 },
 "nbformat": 4,
 "nbformat_minor": 4
}
